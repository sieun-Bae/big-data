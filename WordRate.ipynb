{
 "cells": [
  {
   "cell_type": "markdown",
   "metadata": {},
   "source": [
    "# Hadoop Streaming assignment 1: Words Rating"
   ]
  },
  {
   "cell_type": "markdown",
   "metadata": {},
   "source": [
    "The purpose of this task is to create your own WordCount program for Wikipedia dump processing and learn basic concepts of the MapReduce.\n",
    "\n",
    "In this task you have to find the 7th word by popularity and its quantity in the reverse order (most popular first) in Wikipedia data (`/data/wiki/en_articles_part`).\n",
    "\n",
    "There are several points for this task:\n",
    "\n",
    "1) As an output, you have to get the 7th word and its quantity separated by a tab character.\n",
    "\n",
    "2) You must use the second job to obtain a totally ordered result.\n",
    "\n",
    "3) Do not forget to redirect all trash and output to /dev/null.\n",
    "\n",
    "Here you can find the draft of the task main steps. You can use other methods for solution obtaining."
   ]
  },
  {
   "cell_type": "markdown",
   "metadata": {},
   "source": [
    "## Step 1. Create mapper and reducer.\n",
    "\n",
    "<b>Hint:</b>  Demo task contains almost all the necessary pieces to complete this assignment. You may use the demo to implement the first MapReduce Job."
   ]
  },
  {
   "cell_type": "code",
   "execution_count": 1,
   "metadata": {},
   "outputs": [
    {
     "name": "stdout",
     "output_type": "stream",
     "text": [
      "Overwriting mapper1.py\n"
     ]
    }
   ],
   "source": [
    "%%writefile mapper1.py\n",
    "\n",
    "# Your code for mapper here.\n",
    "import sys\n",
    "import re\n",
    "\n",
    "reload(sys)\n",
    "sys.setdefaultencoding('utf-8') # required to convert to unicode\n",
    "\n",
    "for line in sys.stdin:\n",
    "    try:\n",
    "        article_id, text = unicode(line.strip()).split('\\t', 1)\n",
    "        words = re.split(\"\\W*\\s+\\W*\", text, flags=re.UNICODE)\n",
    "        \n",
    "        for word in words:\n",
    "            print \"%s\\t%d\" % (word.lower(), 1)\n",
    "\n",
    "    except ValueError as e:\n",
    "        continue"
   ]
  },
  {
   "cell_type": "code",
   "execution_count": 2,
   "metadata": {},
   "outputs": [
    {
     "name": "stdout",
     "output_type": "stream",
     "text": [
      "Overwriting reducer1.py\n"
     ]
    }
   ],
   "source": [
    "%%writefile reducer1.py\n",
    "\n",
    "import sys\n",
    "\n",
    "current_word = None\n",
    "current_count = 0\n",
    "\n",
    "for line in sys.stdin:\n",
    "    try:\n",
    "        key, count = line.strip().split('\\t', 1)\n",
    "        count = int(count)\n",
    "        \n",
    "        if current_word != key:\n",
    "            if current_word:\n",
    "                print \"%s\\t%d\" % (current_word, current_count)\n",
    "            \n",
    "            current_word = key\n",
    "            current_count = 0\n",
    "        \n",
    "        current_count += count\n",
    "        \n",
    "    except ValueError as e:\n",
    "        continue\n",
    "        \n",
    "if current_word:       \n",
    "    print \"%s\\t%d\" % (current_word, current_count)"
   ]
  },
  {
   "cell_type": "code",
   "execution_count": 3,
   "metadata": {},
   "outputs": [],
   "source": [
    "# You can use this cell for other experiments: for example, for combiner."
   ]
  },
  {
   "cell_type": "markdown",
   "metadata": {},
   "source": [
    "## Step 2. Create sort job.\n",
    "\n",
    "<b>Hint:</b> You may use MapReduce comparator to solve this step. Make sure that the keys are sorted in ascending order."
   ]
  },
  {
   "cell_type": "code",
   "execution_count": 4,
   "metadata": {},
   "outputs": [
    {
     "name": "stdout",
     "output_type": "stream",
     "text": [
      "Overwriting mapper2.py\n"
     ]
    }
   ],
   "source": [
    "%%writefile mapper2.py\n",
    "\n",
    "import sys\n",
    "\n",
    "for line in sys.stdin:\n",
    "    try:\n",
    "        word, count = line.strip().split('\\t', 1)\n",
    "        count = int(count)\n",
    "        print(\"{0}\\t{1}\".format(count, word))\n",
    "    except ValueError as e:\n",
    "        continue"
   ]
  },
  {
   "cell_type": "code",
   "execution_count": 5,
   "metadata": {},
   "outputs": [
    {
     "name": "stdout",
     "output_type": "stream",
     "text": [
      "Overwriting reducer2.py\n"
     ]
    }
   ],
   "source": [
    "%%writefile reducer2.py\n",
    "\n",
    "import sys\n",
    "\n",
    "for line in sys.stdin:\n",
    "    try:\n",
    "        count, word = line.strip().split('\\t', 1)\n",
    "        count = int(count)\n",
    "        print(\"{0}\\t{1}\".format(word, count))\n",
    "    except ValueError as e:\n",
    "        continue"
   ]
  },
  {
   "cell_type": "markdown",
   "metadata": {},
   "source": [
    "## Step 3. Bash commands\n",
    "\n",
    "<b> Hint: </b> For printing the exact row you may use basic UNIX commands. For instance, sed/head/tail/... (if you know other commands, you can use them).\n",
    "\n",
    "To run both jobs, you must use two consecutive yarn-commands. Remember that the input for the second job is the ouput for the first job.\n",
    "\n",
    "__NB__: Please, use a defined python major version (e.g. `python3 mappper.py` instead of `python mapper.py`)!"
   ]
  },
  {
   "cell_type": "code",
   "execution_count": 8,
   "metadata": {},
   "outputs": [
    {
     "name": "stdout",
     "output_type": "stream",
     "text": [
      "is\t126420\n"
     ]
    },
    {
     "name": "stderr",
     "output_type": "stream",
     "text": [
      "rm: `assignment1_1_1615981262300964': No such file or directory\n",
      "21/03/17 11:41:04 INFO client.RMProxy: Connecting to ResourceManager at /0.0.0.0:8032\n",
      "21/03/17 11:41:04 INFO client.RMProxy: Connecting to ResourceManager at /0.0.0.0:8032\n",
      "21/03/17 11:41:05 INFO mapred.FileInputFormat: Total input files to process : 1\n",
      "21/03/17 11:41:05 INFO mapreduce.JobSubmitter: number of splits:2\n",
      "21/03/17 11:41:05 INFO Configuration.deprecation: yarn.resourcemanager.system-metrics-publisher.enabled is deprecated. Instead, use yarn.system-metrics-publisher.enabled\n",
      "21/03/17 11:41:05 INFO mapreduce.JobSubmitter: Submitting tokens for job: job_1615980409049_0005\n",
      "21/03/17 11:41:05 INFO conf.Configuration: resource-types.xml not found\n",
      "21/03/17 11:41:05 INFO resource.ResourceUtils: Unable to find 'resource-types.xml'.\n",
      "21/03/17 11:41:05 INFO resource.ResourceUtils: Adding resource type - name = memory-mb, units = Mi, type = COUNTABLE\n",
      "21/03/17 11:41:05 INFO resource.ResourceUtils: Adding resource type - name = vcores, units = , type = COUNTABLE\n",
      "21/03/17 11:41:05 INFO impl.YarnClientImpl: Submitted application application_1615980409049_0005\n",
      "21/03/17 11:41:05 INFO mapreduce.Job: The url to track the job: http://172.17.0.70:8088/proxy/application_1615980409049_0005/\n",
      "21/03/17 11:41:05 INFO mapreduce.Job: Running job: job_1615980409049_0005\n",
      "21/03/17 11:41:10 INFO mapreduce.Job: Job job_1615980409049_0005 running in uber mode : false\n",
      "21/03/17 11:41:10 INFO mapreduce.Job:  map 0% reduce 0%\n",
      "21/03/17 11:41:27 INFO mapreduce.Job:  map 47% reduce 0%\n",
      "21/03/17 11:41:33 INFO mapreduce.Job:  map 67% reduce 0%\n",
      "21/03/17 11:41:36 INFO mapreduce.Job:  map 83% reduce 0%\n",
      "21/03/17 11:41:37 INFO mapreduce.Job:  map 100% reduce 0%\n",
      "21/03/17 11:41:54 INFO mapreduce.Job:  map 100% reduce 22%\n",
      "21/03/17 11:41:59 INFO mapreduce.Job:  map 100% reduce 35%\n",
      "21/03/17 11:42:00 INFO mapreduce.Job:  map 100% reduce 36%\n",
      "21/03/17 11:42:02 INFO mapreduce.Job:  map 100% reduce 63%\n",
      "21/03/17 11:42:03 INFO mapreduce.Job:  map 100% reduce 75%\n",
      "21/03/17 11:42:07 INFO mapreduce.Job:  map 100% reduce 100%\n",
      "21/03/17 11:42:08 INFO mapreduce.Job: Job job_1615980409049_0005 completed successfully\n",
      "21/03/17 11:42:08 INFO mapreduce.Job: Counters: 50\n",
      "\tFile System Counters\n",
      "\t\tFILE: Number of bytes read=243475435\n",
      "\t\tFILE: Number of bytes written=367242580\n",
      "\t\tFILE: Number of read operations=0\n",
      "\t\tFILE: Number of large read operations=0\n",
      "\t\tFILE: Number of write operations=0\n",
      "\t\tHDFS: Number of bytes read=76874501\n",
      "\t\tHDFS: Number of bytes written=5370513\n",
      "\t\tHDFS: Number of read operations=30\n",
      "\t\tHDFS: Number of large read operations=0\n",
      "\t\tHDFS: Number of write operations=16\n",
      "\tJob Counters \n",
      "\t\tKilled reduce tasks=1\n",
      "\t\tLaunched map tasks=2\n",
      "\t\tLaunched reduce tasks=8\n",
      "\t\tData-local map tasks=2\n",
      "\t\tTotal time spent by all maps in occupied slots (ms)=48550\n",
      "\t\tTotal time spent by all reduces in occupied slots (ms)=128429\n",
      "\t\tTotal time spent by all map tasks (ms)=48550\n",
      "\t\tTotal time spent by all reduce tasks (ms)=128429\n",
      "\t\tTotal vcore-milliseconds taken by all map tasks=48550\n",
      "\t\tTotal vcore-milliseconds taken by all reduce tasks=128429\n",
      "\t\tTotal megabyte-milliseconds taken by all map tasks=49715200\n",
      "\t\tTotal megabyte-milliseconds taken by all reduce tasks=131511296\n",
      "\tMap-Reduce Framework\n",
      "\t\tMap input records=4100\n",
      "\t\tMap output records=11937375\n",
      "\t\tMap output bytes=97842436\n",
      "\t\tMap output materialized bytes=121717292\n",
      "\t\tInput split bytes=228\n",
      "\t\tCombine input records=0\n",
      "\t\tCombine output records=0\n",
      "\t\tReduce input groups=427176\n",
      "\t\tReduce shuffle bytes=121717292\n",
      "\t\tReduce input records=11937375\n",
      "\t\tReduce output records=427175\n",
      "\t\tSpilled Records=35812125\n",
      "\t\tShuffled Maps =16\n",
      "\t\tFailed Shuffles=0\n",
      "\t\tMerged Map outputs=16\n",
      "\t\tGC time elapsed (ms)=3195\n",
      "\t\tCPU time spent (ms)=58910\n",
      "\t\tPhysical memory (bytes) snapshot=2130501632\n",
      "\t\tVirtual memory (bytes) snapshot=19277029376\n",
      "\t\tTotal committed heap usage (bytes)=1199570944\n",
      "\tShuffle Errors\n",
      "\t\tBAD_ID=0\n",
      "\t\tCONNECTION=0\n",
      "\t\tIO_ERROR=0\n",
      "\t\tWRONG_LENGTH=0\n",
      "\t\tWRONG_MAP=0\n",
      "\t\tWRONG_REDUCE=0\n",
      "\tFile Input Format Counters \n",
      "\t\tBytes Read=76874273\n",
      "\tFile Output Format Counters \n",
      "\t\tBytes Written=5370513\n",
      "21/03/17 11:42:08 INFO streaming.StreamJob: Output directory: assignment1_1_1615981262300964\n",
      "rm: `combiner.py': No such file or directory\n",
      "rm: `counter_process.py': No such file or directory\n",
      "rm: `course01_week01-demo-HDFS.ipynb': No such file or directory\n",
      "rm: `course01_week03-task00-WordCount.ipynb': No such file or directory\n",
      "rm: `course01_week03-task01-WordRating.ipynb': No such file or directory\n",
      "rm: `course01_week03-task02-StopWords.ipynb': No such file or directory\n",
      "rm: `course01_week05-task-Pairs.ipynb': No such file or directory\n",
      "rm: `course01_week06-task-ReconPath.ipynb': No such file or directory\n",
      "rm: `mapper1.py': No such file or directory\n",
      "rm: `mapper2.py': No such file or directory\n",
      "rm: `mapper.py': No such file or directory\n",
      "rm: `mapper_wiki_parser.py': No such file or directory\n",
      "rm: `reducer1.py': No such file or directory\n",
      "rm: `reducer2.py': No such file or directory\n",
      "rm: `reducer.py': No such file or directory\n",
      "rm: `reducer_wiki_parser.py': No such file or directory\n",
      "rm: `stderr_logs.txt': No such file or directory\n",
      "21/03/17 11:42:11 INFO client.RMProxy: Connecting to ResourceManager at /0.0.0.0:8032\n",
      "21/03/17 11:42:11 INFO client.RMProxy: Connecting to ResourceManager at /0.0.0.0:8032\n",
      "21/03/17 11:42:11 INFO mapred.FileInputFormat: Total input files to process : 8\n",
      "21/03/17 11:42:11 INFO mapreduce.JobSubmitter: number of splits:8\n",
      "21/03/17 11:42:11 INFO Configuration.deprecation: yarn.resourcemanager.system-metrics-publisher.enabled is deprecated. Instead, use yarn.system-metrics-publisher.enabled\n",
      "21/03/17 11:42:11 INFO mapreduce.JobSubmitter: Submitting tokens for job: job_1615980409049_0006\n",
      "21/03/17 11:42:11 INFO conf.Configuration: resource-types.xml not found\n",
      "21/03/17 11:42:11 INFO resource.ResourceUtils: Unable to find 'resource-types.xml'.\n",
      "21/03/17 11:42:11 INFO resource.ResourceUtils: Adding resource type - name = memory-mb, units = Mi, type = COUNTABLE\n",
      "21/03/17 11:42:11 INFO resource.ResourceUtils: Adding resource type - name = vcores, units = , type = COUNTABLE\n",
      "21/03/17 11:42:12 INFO impl.YarnClientImpl: Submitted application application_1615980409049_0006\n",
      "21/03/17 11:42:12 INFO mapreduce.Job: The url to track the job: http://172.17.0.70:8088/proxy/application_1615980409049_0006/\n",
      "21/03/17 11:42:12 INFO mapreduce.Job: Running job: job_1615980409049_0006\n",
      "21/03/17 11:42:18 INFO mapreduce.Job: Job job_1615980409049_0006 running in uber mode : false\n",
      "21/03/17 11:42:18 INFO mapreduce.Job:  map 0% reduce 0%\n",
      "21/03/17 11:42:32 INFO mapreduce.Job:  map 63% reduce 0%\n",
      "21/03/17 11:42:33 INFO mapreduce.Job:  map 75% reduce 0%\n",
      "21/03/17 11:42:37 INFO mapreduce.Job:  map 100% reduce 0%\n",
      "21/03/17 11:42:39 INFO mapreduce.Job:  map 100% reduce 100%\n",
      "21/03/17 11:42:41 INFO mapreduce.Job: Job job_1615980409049_0006 completed successfully\n",
      "21/03/17 11:42:41 INFO mapreduce.Job: Counters: 49\n",
      "\tFile System Counters\n",
      "\t\tFILE: Number of bytes read=6224888\n",
      "\t\tFILE: Number of bytes written=14335281\n",
      "\t\tFILE: Number of read operations=0\n",
      "\t\tFILE: Number of large read operations=0\n",
      "\t\tFILE: Number of write operations=0\n",
      "\t\tHDFS: Number of bytes read=5371529\n",
      "\t\tHDFS: Number of bytes written=5370513\n",
      "\t\tHDFS: Number of read operations=27\n",
      "\t\tHDFS: Number of large read operations=0\n",
      "\t\tHDFS: Number of write operations=2\n",
      "\tJob Counters \n",
      "\t\tLaunched map tasks=8\n",
      "\t\tLaunched reduce tasks=1\n",
      "\t\tData-local map tasks=8\n",
      "\t\tTotal time spent by all maps in occupied slots (ms)=82558\n",
      "\t\tTotal time spent by all reduces in occupied slots (ms)=4112\n",
      "\t\tTotal time spent by all map tasks (ms)=82558\n",
      "\t\tTotal time spent by all reduce tasks (ms)=4112\n",
      "\t\tTotal vcore-milliseconds taken by all map tasks=82558\n",
      "\t\tTotal vcore-milliseconds taken by all reduce tasks=4112\n",
      "\t\tTotal megabyte-milliseconds taken by all map tasks=84539392\n",
      "\t\tTotal megabyte-milliseconds taken by all reduce tasks=4210688\n",
      "\tMap-Reduce Framework\n",
      "\t\tMap input records=427175\n",
      "\t\tMap output records=427175\n",
      "\t\tMap output bytes=5370522\n",
      "\t\tMap output materialized bytes=6224930\n",
      "\t\tInput split bytes=1016\n",
      "\t\tCombine input records=0\n",
      "\t\tCombine output records=0\n",
      "\t\tReduce input groups=2075\n",
      "\t\tReduce shuffle bytes=6224930\n",
      "\t\tReduce input records=427175\n",
      "\t\tReduce output records=427175\n",
      "\t\tSpilled Records=854350\n",
      "\t\tShuffled Maps =8\n",
      "\t\tFailed Shuffles=0\n",
      "\t\tMerged Map outputs=8\n",
      "\t\tGC time elapsed (ms)=2842\n",
      "\t\tCPU time spent (ms)=9620\n",
      "\t\tPhysical memory (bytes) snapshot=2412236800\n",
      "\t\tVirtual memory (bytes) snapshot=17291665408\n",
      "\t\tTotal committed heap usage (bytes)=1654652928\n",
      "\tShuffle Errors\n",
      "\t\tBAD_ID=0\n",
      "\t\tCONNECTION=0\n",
      "\t\tIO_ERROR=0\n",
      "\t\tWRONG_LENGTH=0\n",
      "\t\tWRONG_MAP=0\n",
      "\t\tWRONG_REDUCE=0\n",
      "\tFile Input Format Counters \n",
      "\t\tBytes Read=5370513\n",
      "\tFile Output Format Counters \n",
      "\t\tBytes Written=5370513\n",
      "21/03/17 11:42:41 INFO streaming.StreamJob: Output directory: assignment1_2_1615981330138255\n",
      "cat: Unable to write to output stream.\n"
     ]
    }
   ],
   "source": [
    "%%bash\n",
    "\n",
    "OUT_DIR_1=\"assignment1_1_\"$(date +\"%s%6N\")\n",
    "NUM_REDUCERS=8\n",
    "\n",
    "hdfs dfs -rm -r -skipTrash ${OUT_DIR_1} > /dev/null\n",
    "\n",
    "yarn jar /opt/cloudera/parcels/CDH/lib/hadoop-mapreduce/hadoop-streaming.jar \\\n",
    "    -D mapred.jab.name=\"Streaming wordCount\" \\\n",
    "    -D mapreduce.job.reduces=${NUM_REDUCERS} \\\n",
    "    -files mapper1.py,reducer1.py \\\n",
    "    -mapper \"python2 mapper1.py\" \\\n",
    "    -reducer \"python2 reducer1.py\" \\\n",
    "    -input /data/wiki/en_articles_part \\\n",
    "    -output ${OUT_DIR_1} > /dev/null\n",
    "\n",
    "hdfs dfs -rm -r -skipTrash ${OUT_DIR_2}* > /dev/null\n",
    "\n",
    "OUT_DIR_2=\"assignment1_2_\"$(date +\"%s%6N\")\n",
    "\n",
    "yarn jar /opt/cloudera/parcels/CDH/lib/hadoop-mapreduce/hadoop-streaming.jar \\\n",
    "    -D mapred.jab.name=\"Streaming wordCount 2\" \\\n",
    "    -D mapreduce.job.output.key.comparator.class=org.apache.hadoop.mapreduce.lib.partition.KeyFieldBasedComparator \\\n",
    "    -D mapreduce.partition.keycomparator.options=\"-k1,2nr\" \\\n",
    "    -files mapper2.py,reducer2.py \\\n",
    "    -mapper \"python2 mapper2.py\" \\\n",
    "    -reducer \"python2 reducer2.py\" \\\n",
    "    -numReduceTasks 1 \\\n",
    "    -input ${OUT_DIR_1} \\\n",
    "    -output ${OUT_DIR_2} > /dev/null\n",
    "\n",
    "hdfs dfs -cat ${OUT_DIR_2}/part-00000 | sed -n '7p;8q'"
   ]
  },
  {
   "cell_type": "code",
   "execution_count": null,
   "metadata": {},
   "outputs": [],
   "source": []
  }
 ],
 "metadata": {
  "kernelspec": {
   "display_name": "Python 3",
   "language": "python",
   "name": "python3"
  },
  "language_info": {
   "codemirror_mode": {
    "name": "ipython",
    "version": 3
   },
   "file_extension": ".py",
   "mimetype": "text/x-python",
   "name": "python",
   "nbconvert_exporter": "python",
   "pygments_lexer": "ipython3",
   "version": "3.6.6"
  }
 },
 "nbformat": 4,
 "nbformat_minor": 2
}
